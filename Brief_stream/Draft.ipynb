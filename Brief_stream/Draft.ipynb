{
 "cells": [
  {
   "cell_type": "code",
   "execution_count": 1,
   "id": "e43503d0",
   "metadata": {},
   "outputs": [],
   "source": [
    "results= [\n",
    "        {\n",
    "            \"name\": \"Tatooine\", \n",
    "            \"rotation_period\": \"23\", \n",
    "            \"orbital_period\": \"304\", \n",
    "            \"diameter\": \"10465\", \n",
    "            \"climate\": \"arid\", \n",
    "            \"gravity\": \"1 standard\", \n",
    "            \"terrain\": \"desert\", \n",
    "            \"surface_water\": \"1\", \n",
    "            \"population\": \"200000\", \n",
    "            \"residents\": [\n",
    "                \"https://swapi.dev/api/people/1/\", \n",
    "                \"https://swapi.dev/api/people/2/\", \n",
    "                \"https://swapi.dev/api/people/4/\", \n",
    "                \"https://swapi.dev/api/people/6/\", \n",
    "                \"https://swapi.dev/api/people/7/\", \n",
    "                \"https://swapi.dev/api/people/8/\", \n",
    "                \"https://swapi.dev/api/people/9/\", \n",
    "                \"https://swapi.dev/api/people/11/\", \n",
    "                \"https://swapi.dev/api/people/43/\", \n",
    "                \"https://swapi.dev/api/people/62/\"\n",
    "            ], \n",
    "            \"films\": [\n",
    "                \"https://swapi.dev/api/films/1/\", \n",
    "                \"https://swapi.dev/api/films/3/\", \n",
    "                \"https://swapi.dev/api/films/4/\", \n",
    "                \"https://swapi.dev/api/films/5/\", \n",
    "                \"https://swapi.dev/api/films/6/\"\n",
    "            ], \n",
    "            \"created\": \"2014-12-09T13:50:49.641000Z\", \n",
    "            \"edited\": \"2014-12-20T20:58:18.411000Z\", \n",
    "            \"url\": \"https://swapi.dev/api/planets/1/\"\n",
    "        }]"
   ]
  },
  {
   "cell_type": "code",
   "execution_count": 2,
   "id": "9f6fc0c1",
   "metadata": {},
   "outputs": [],
   "source": [
    "valeurs = list(results[0].values())"
   ]
  },
  {
   "cell_type": "code",
   "execution_count": 3,
   "id": "05dcf2f9",
   "metadata": {},
   "outputs": [
    {
     "data": {
      "text/plain": [
       "list"
      ]
     },
     "execution_count": 3,
     "metadata": {},
     "output_type": "execute_result"
    }
   ],
   "source": [
    "type(valeurs)"
   ]
  },
  {
   "cell_type": "code",
   "execution_count": 4,
   "id": "aa3a35c8",
   "metadata": {},
   "outputs": [
    {
     "name": "stdout",
     "output_type": "stream",
     "text": [
      "Tatooine\n",
      "23\n",
      "304\n",
      "10465\n",
      "arid\n",
      "1 standard\n",
      "desert\n",
      "1\n",
      "200000\n"
     ]
    }
   ],
   "source": [
    "for v in valeurs[:9] :\n",
    "    print(v)"
   ]
  },
  {
   "cell_type": "code",
   "execution_count": 5,
   "id": "a966840c",
   "metadata": {},
   "outputs": [
    {
     "name": "stdout",
     "output_type": "stream",
     "text": [
      "Bienvenue sur la planete Tatooine, qui a une population de 200000\n",
      "Cette planete fait 10465 de diametre pour une surface d'eau égale à 1\n",
      "Le terrain est desert à cause du climat arid et une gravité de 1 standard\n",
      "Sa periode de rotation est de  23 pour une période orbitale de 304\n"
     ]
    }
   ],
   "source": [
    "print(f\"Bienvenue sur la planete {valeurs[0]}, qui a une population de {valeurs[8]}\")\n",
    "print(f\"Cette planete fait {valeurs[3]} de diametre pour une surface d'eau égale à {valeurs[7]}\")\n",
    "print(f\"Le terrain est {valeurs[6]} à cause du climat {valeurs[4]} et une gravité de {valeurs[5]}\")\n",
    "print(f\"Sa periode de rotation est de  {valeurs[1]} pour une période orbitale de {valeurs[2]}\")\n",
    "   "
   ]
  },
  {
   "cell_type": "code",
   "execution_count": null,
   "id": "ce9260f1",
   "metadata": {},
   "outputs": [],
   "source": [
    "nom ="
   ]
  },
  {
   "cell_type": "code",
   "execution_count": null,
   "id": "7fcea34b",
   "metadata": {},
   "outputs": [],
   "source": [
    "nom"
   ]
  },
  {
   "cell_type": "code",
   "execution_count": null,
   "id": "b3595e02",
   "metadata": {},
   "outputs": [],
   "source": []
  }
 ],
 "metadata": {
  "kernelspec": {
   "display_name": "Python 3 (ipykernel)",
   "language": "python",
   "name": "python3"
  },
  "language_info": {
   "codemirror_mode": {
    "name": "ipython",
    "version": 3
   },
   "file_extension": ".py",
   "mimetype": "text/x-python",
   "name": "python",
   "nbconvert_exporter": "python",
   "pygments_lexer": "ipython3",
   "version": "3.8.12"
  },
  "toc": {
   "base_numbering": 1,
   "nav_menu": {},
   "number_sections": true,
   "sideBar": true,
   "skip_h1_title": false,
   "title_cell": "Table of Contents",
   "title_sidebar": "Contents",
   "toc_cell": false,
   "toc_position": {},
   "toc_section_display": true,
   "toc_window_display": false
  }
 },
 "nbformat": 4,
 "nbformat_minor": 5
}
